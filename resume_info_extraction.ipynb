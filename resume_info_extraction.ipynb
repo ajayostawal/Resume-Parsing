{
  "nbformat": 4,
  "nbformat_minor": 0,
  "metadata": {
    "colab": {
      "name": "Untitled34.ipynb",
      "provenance": [],
      "authorship_tag": "ABX9TyPxRDCPxL1vO4nRPWRR8III",
      "include_colab_link": true
    },
    "kernelspec": {
      "name": "python3",
      "display_name": "Python 3"
    },
    "language_info": {
      "name": "python"
    }
  },
  "cells": [
    {
      "cell_type": "markdown",
      "metadata": {
        "id": "view-in-github",
        "colab_type": "text"
      },
      "source": [
        "<a href=\"https://colab.research.google.com/github/ajayostawal/Resume-Parsing/blob/main/resume_info_extraction.ipynb\" target=\"_parent\"><img src=\"https://colab.research.google.com/assets/colab-badge.svg\" alt=\"Open In Colab\"/></a>"
      ]
    },
    {
      "cell_type": "code",
      "execution_count": 37,
      "metadata": {
        "colab": {
          "base_uri": "https://localhost:8080/"
        },
        "id": "9RsnQhkP7qXQ",
        "outputId": "180cf940-b497-43ca-8d0a-9a61c739163e"
      },
      "outputs": [
        {
          "output_type": "stream",
          "name": "stdout",
          "text": [
            "Done\n"
          ]
        }
      ],
      "source": [
        "from zipfile import ZipFile\n",
        "file_name = '/content/resume2.zip'\n",
        "\n",
        "with ZipFile(file_name, 'r') as zip:\n",
        "  zip.extractall()\n",
        "  print('Done')"
      ]
    },
    {
      "cell_type": "code",
      "source": [
        "pip install pdfminer\n"
      ],
      "metadata": {
        "colab": {
          "base_uri": "https://localhost:8080/"
        },
        "id": "6_JQYguUUetT",
        "outputId": "c984be47-487a-46ea-f3ff-d6ff46d916df"
      },
      "execution_count": 38,
      "outputs": [
        {
          "output_type": "stream",
          "name": "stdout",
          "text": [
            "Requirement already satisfied: pdfminer in /usr/local/lib/python3.7/dist-packages (20191125)\n",
            "Requirement already satisfied: pycryptodome in /usr/local/lib/python3.7/dist-packages (from pdfminer) (3.14.1)\n"
          ]
        }
      ]
    },
    {
      "cell_type": "code",
      "source": [
        "import spacy #nlp\n",
        "import pdfminer #pdf2tx\n",
        "import re #regex\n",
        "import os #file manip\n",
        "import pandas as pd #csv - tabular"
      ],
      "metadata": {
        "id": "PJfFNynE81Vw"
      },
      "execution_count": 46,
      "outputs": []
    },
    {
      "cell_type": "code",
      "source": [
        "pip install pdfminer.six\n"
      ],
      "metadata": {
        "colab": {
          "base_uri": "https://localhost:8080/",
          "height": 294
        },
        "id": "1AX_1K099fpf",
        "outputId": "6062ef75-c1cc-4f6a-dc4d-a6f786b06cb2"
      },
      "execution_count": 5,
      "outputs": [
        {
          "output_type": "stream",
          "name": "stdout",
          "text": [
            "Collecting pdfminer.six\n",
            "  Downloading pdfminer.six-20211012-py3-none-any.whl (5.6 MB)\n",
            "\u001b[K     |████████████████████████████████| 5.6 MB 22.1 MB/s \n",
            "\u001b[?25hCollecting cryptography\n",
            "  Downloading cryptography-36.0.1-cp36-abi3-manylinux_2_24_x86_64.whl (3.6 MB)\n",
            "\u001b[K     |████████████████████████████████| 3.6 MB 49.4 MB/s \n",
            "\u001b[?25hRequirement already satisfied: chardet in /usr/local/lib/python3.7/dist-packages (from pdfminer.six) (3.0.4)\n",
            "Requirement already satisfied: cffi>=1.12 in /usr/local/lib/python3.7/dist-packages (from cryptography->pdfminer.six) (1.15.0)\n",
            "Requirement already satisfied: pycparser in /usr/local/lib/python3.7/dist-packages (from cffi>=1.12->cryptography->pdfminer.six) (2.21)\n",
            "Installing collected packages: cryptography, pdfminer.six\n",
            "Successfully installed cryptography-36.0.1 pdfminer.six-20211012\n"
          ]
        },
        {
          "output_type": "display_data",
          "data": {
            "application/vnd.colab-display-data+json": {
              "pip_warning": {
                "packages": [
                  "pdfminer"
                ]
              }
            }
          },
          "metadata": {}
        }
      ]
    },
    {
      "cell_type": "code",
      "source": [
        "pip install pdfminer2\n"
      ],
      "metadata": {
        "colab": {
          "base_uri": "https://localhost:8080/",
          "height": 207
        },
        "id": "oWFb1tG_OWqa",
        "outputId": "aa13b65c-4062-4036-bc52-d6ce98945337"
      },
      "execution_count": 6,
      "outputs": [
        {
          "output_type": "stream",
          "name": "stdout",
          "text": [
            "Collecting pdfminer2\n",
            "  Downloading pdfminer2-20151206-py2.py3-none-any.whl (117 kB)\n",
            "\u001b[?25l\r\u001b[K     |██▉                             | 10 kB 23.7 MB/s eta 0:00:01\r\u001b[K     |█████▋                          | 20 kB 20.9 MB/s eta 0:00:01\r\u001b[K     |████████▍                       | 30 kB 23.5 MB/s eta 0:00:01\r\u001b[K     |███████████▏                    | 40 kB 25.6 MB/s eta 0:00:01\r\u001b[K     |██████████████                  | 51 kB 19.0 MB/s eta 0:00:01\r\u001b[K     |████████████████▊               | 61 kB 20.8 MB/s eta 0:00:01\r\u001b[K     |███████████████████▌            | 71 kB 22.3 MB/s eta 0:00:01\r\u001b[K     |██████████████████████▎         | 81 kB 23.3 MB/s eta 0:00:01\r\u001b[K     |█████████████████████████       | 92 kB 25.1 MB/s eta 0:00:01\r\u001b[K     |███████████████████████████▉    | 102 kB 24.2 MB/s eta 0:00:01\r\u001b[K     |██████████████████████████████▋ | 112 kB 24.2 MB/s eta 0:00:01\r\u001b[K     |████████████████████████████████| 117 kB 24.2 MB/s \n",
            "\u001b[?25hRequirement already satisfied: six in /usr/local/lib/python3.7/dist-packages (from pdfminer2) (1.15.0)\n",
            "Installing collected packages: pdfminer2\n",
            "Successfully installed pdfminer2-20151206\n"
          ]
        },
        {
          "output_type": "display_data",
          "data": {
            "application/vnd.colab-display-data+json": {
              "pip_warning": {
                "packages": [
                  "pdfminer"
                ]
              }
            }
          },
          "metadata": {}
        }
      ]
    },
    {
      "cell_type": "code",
      "source": [
        "pip install pdfminer3"
      ],
      "metadata": {
        "colab": {
          "base_uri": "https://localhost:8080/"
        },
        "id": "LFFrD67oOauH",
        "outputId": "fc16101c-06b1-48f0-ac65-f404c9fdae45"
      },
      "execution_count": 7,
      "outputs": [
        {
          "output_type": "stream",
          "name": "stdout",
          "text": [
            "Collecting pdfminer3\n",
            "  Downloading pdfminer3-2018.12.3.0.tar.gz (5.0 MB)\n",
            "\u001b[K     |████████████████████████████████| 5.0 MB 21.3 MB/s \n",
            "\u001b[?25hRequirement already satisfied: pycryptodome in /usr/local/lib/python3.7/dist-packages (from pdfminer3) (3.14.1)\n",
            "Requirement already satisfied: sortedcontainers in /usr/local/lib/python3.7/dist-packages (from pdfminer3) (2.4.0)\n",
            "Requirement already satisfied: chardet in /usr/local/lib/python3.7/dist-packages (from pdfminer3) (3.0.4)\n",
            "Building wheels for collected packages: pdfminer3\n",
            "  Building wheel for pdfminer3 (setup.py) ... \u001b[?25l\u001b[?25hdone\n",
            "  Created wheel for pdfminer3: filename=pdfminer3-2018.12.3.0-py3-none-any.whl size=117822 sha256=f3450498b6f0edeab1a65a84b64ce9b58a84ac7c633906ee80bee67992eb4ba5\n",
            "  Stored in directory: /root/.cache/pip/wheels/f6/1b/21/339d1825e274c4a9829233a986f93dcedb98913f98e85b2916\n",
            "Successfully built pdfminer3\n",
            "Installing collected packages: pdfminer3\n",
            "Successfully installed pdfminer3-2018.12.3.0\n"
          ]
        }
      ]
    },
    {
      "cell_type": "code",
      "source": [
        "from resume2 import pdf2txt"
      ],
      "metadata": {
        "id": "ueXesJIh8Acd"
      },
      "execution_count": 47,
      "outputs": []
    },
    {
      "cell_type": "code",
      "source": [
        "def convert_pdf(f):\n",
        "\n",
        "    output_filename = os.path.basename(os.path.splitext(f)[0]) + \".txt\"\n",
        "    output_filepath = os.path.join(\"/content/resume2/output/txt/\", output_filename)\n",
        "    pdf2txt.main(args=[f, \"--outfile\", output_filepath]) #pdf to txt and save it in the given location\n",
        "    print(output_filepath + \" saved successfully!!!\")\n",
        "    return open(output_filepath).read()"
      ],
      "metadata": {
        "id": "sfm58FXX84cl"
      },
      "execution_count": 48,
      "outputs": []
    },
    {
      "cell_type": "code",
      "source": [
        "nlp = spacy.load(\"en_core_web_sm\")\n"
      ],
      "metadata": {
        "id": "zr_JYvW18xc9"
      },
      "execution_count": 49,
      "outputs": []
    },
    {
      "cell_type": "code",
      "source": [
        "result_dict = {'name': [], 'phone': [], 'email': [], 'skills': []} \n",
        "names = []\n",
        "phones = []\n",
        "emails = []\n",
        "skills = []"
      ],
      "metadata": {
        "id": "feoEeDG58txq"
      },
      "execution_count": 50,
      "outputs": []
    },
    {
      "cell_type": "code",
      "source": [
        "def parse_content(text):\n",
        "    skillset = re.compile(\"python|java|sql|hadoop|tableau\")\n",
        "    phone_num = re.compile(\n",
        "        \"(\\d{3}[-\\.\\s]??\\d{3}[-\\.\\s]??\\d{4}|\\(\\d{3}\\)\\s*\\d{3}[-\\.\\s]??\\d{4}|\\d{3}[-\\.\\s]??\\d{4})\"\n",
        "    )\n",
        "    doc = nlp(text)\n",
        "    name = [entity.text for entity in doc.ents if entity.label_ is \"PERSON\"][0]\n",
        "    print(name)\n",
        "    email = [word for word in doc if word.like_email == True][0]\n",
        "    print(email)\n",
        "    phone = str(re.findall(phone_num, text.lower()))\n",
        "    skills_list = re.findall(skillset, text.lower())\n",
        "    unique_skills_list = str(set(skills_list))\n",
        "    names.append(name)\n",
        "    emails.append(email)\n",
        "    phones.append(phone)\n",
        "    skills.append(unique_skills_list)\n",
        "    print(\"Extraction completed successfully!!!\")"
      ],
      "metadata": {
        "id": "5XDJK6TRVJ5I"
      },
      "execution_count": 51,
      "outputs": []
    },
    {
      "cell_type": "code",
      "source": [
        "for file in os.listdir('/content/resume2/CV/'):\n",
        "    if file.endswith('.pdf'):\n",
        "        print('Reading.....' + file)\n",
        "        txt = convert_pdf(os.path.join('/content/resume2/CV',file))\n",
        "        parse_content(txt)"
      ],
      "metadata": {
        "colab": {
          "base_uri": "https://localhost:8080/"
        },
        "id": "8DDvDVNnVMvk",
        "outputId": "0d4b2107-6f5b-4ba0-e3ed-4973cad84f7f"
      },
      "execution_count": 52,
      "outputs": [
        {
          "output_type": "stream",
          "name": "stdout",
          "text": [
            "Reading.....Alisson ParkerCV.pdf\n",
            "/content/resume2/output/txt/Alisson ParkerCV.txt saved successfully!!!\n",
            "Alisson Parker-Wright\n",
            "alli1414parks@mail.com\n",
            "Extraction completed successfully!!!\n",
            "Reading.....AshleyMilesCV.pdf\n",
            "/content/resume2/output/txt/AshleyMilesCV.txt saved successfully!!!\n",
            "Ashley Miles\n",
            "ashleymiles@memail.com\n",
            "Extraction completed successfully!!!\n",
            "Reading.....John DominicCV.pdf\n",
            "/content/resume2/output/txt/John DominicCV.txt saved successfully!!!\n",
            "John Dominic\n",
            "johndominic@mail.com\n",
            "Extraction completed successfully!!!\n"
          ]
        }
      ]
    },
    {
      "cell_type": "code",
      "source": [
        "result_dict['name'] = names\n",
        "result_dict['phone'] = phones\n",
        "result_dict['email'] = emails\n",
        "result_dict['skills'] = skills\n"
      ],
      "metadata": {
        "id": "InI1ite2VUiu"
      },
      "execution_count": 53,
      "outputs": []
    },
    {
      "cell_type": "code",
      "source": [
        "result_df = pd.DataFrame(result_dict)\n",
        "result_df"
      ],
      "metadata": {
        "colab": {
          "base_uri": "https://localhost:8080/",
          "height": 143
        },
        "id": "ibCX3PhYYuH-",
        "outputId": "b4f9e0a7-ce17-4727-a2da-a9edf44b6bee"
      },
      "execution_count": 54,
      "outputs": [
        {
          "output_type": "execute_result",
          "data": {
            "text/html": [
              "\n",
              "  <div id=\"df-3ec2f0e3-b6c3-4d91-a000-534d8a04c0ca\">\n",
              "    <div class=\"colab-df-container\">\n",
              "      <div>\n",
              "<style scoped>\n",
              "    .dataframe tbody tr th:only-of-type {\n",
              "        vertical-align: middle;\n",
              "    }\n",
              "\n",
              "    .dataframe tbody tr th {\n",
              "        vertical-align: top;\n",
              "    }\n",
              "\n",
              "    .dataframe thead th {\n",
              "        text-align: right;\n",
              "    }\n",
              "</style>\n",
              "<table border=\"1\" class=\"dataframe\">\n",
              "  <thead>\n",
              "    <tr style=\"text-align: right;\">\n",
              "      <th></th>\n",
              "      <th>name</th>\n",
              "      <th>phone</th>\n",
              "      <th>email</th>\n",
              "      <th>skills</th>\n",
              "    </tr>\n",
              "  </thead>\n",
              "  <tbody>\n",
              "    <tr>\n",
              "      <th>0</th>\n",
              "      <td>Alisson Parker-Wright</td>\n",
              "      <td>['8569878511']</td>\n",
              "      <td>alli1414parks@mail.com</td>\n",
              "      <td>{'python', 'tableau', 'java'}</td>\n",
              "    </tr>\n",
              "    <tr>\n",
              "      <th>1</th>\n",
              "      <td>Ashley Miles</td>\n",
              "      <td>['6592251422']</td>\n",
              "      <td>ashleymiles@memail.com</td>\n",
              "      <td>{'sql', 'tableau'}</td>\n",
              "    </tr>\n",
              "    <tr>\n",
              "      <th>2</th>\n",
              "      <td>John Dominic</td>\n",
              "      <td>['7877756411']</td>\n",
              "      <td>johndominic@mail.com</td>\n",
              "      <td>{'python', 'hadoop', 'java'}</td>\n",
              "    </tr>\n",
              "  </tbody>\n",
              "</table>\n",
              "</div>\n",
              "      <button class=\"colab-df-convert\" onclick=\"convertToInteractive('df-3ec2f0e3-b6c3-4d91-a000-534d8a04c0ca')\"\n",
              "              title=\"Convert this dataframe to an interactive table.\"\n",
              "              style=\"display:none;\">\n",
              "        \n",
              "  <svg xmlns=\"http://www.w3.org/2000/svg\" height=\"24px\"viewBox=\"0 0 24 24\"\n",
              "       width=\"24px\">\n",
              "    <path d=\"M0 0h24v24H0V0z\" fill=\"none\"/>\n",
              "    <path d=\"M18.56 5.44l.94 2.06.94-2.06 2.06-.94-2.06-.94-.94-2.06-.94 2.06-2.06.94zm-11 1L8.5 8.5l.94-2.06 2.06-.94-2.06-.94L8.5 2.5l-.94 2.06-2.06.94zm10 10l.94 2.06.94-2.06 2.06-.94-2.06-.94-.94-2.06-.94 2.06-2.06.94z\"/><path d=\"M17.41 7.96l-1.37-1.37c-.4-.4-.92-.59-1.43-.59-.52 0-1.04.2-1.43.59L10.3 9.45l-7.72 7.72c-.78.78-.78 2.05 0 2.83L4 21.41c.39.39.9.59 1.41.59.51 0 1.02-.2 1.41-.59l7.78-7.78 2.81-2.81c.8-.78.8-2.07 0-2.86zM5.41 20L4 18.59l7.72-7.72 1.47 1.35L5.41 20z\"/>\n",
              "  </svg>\n",
              "      </button>\n",
              "      \n",
              "  <style>\n",
              "    .colab-df-container {\n",
              "      display:flex;\n",
              "      flex-wrap:wrap;\n",
              "      gap: 12px;\n",
              "    }\n",
              "\n",
              "    .colab-df-convert {\n",
              "      background-color: #E8F0FE;\n",
              "      border: none;\n",
              "      border-radius: 50%;\n",
              "      cursor: pointer;\n",
              "      display: none;\n",
              "      fill: #1967D2;\n",
              "      height: 32px;\n",
              "      padding: 0 0 0 0;\n",
              "      width: 32px;\n",
              "    }\n",
              "\n",
              "    .colab-df-convert:hover {\n",
              "      background-color: #E2EBFA;\n",
              "      box-shadow: 0px 1px 2px rgba(60, 64, 67, 0.3), 0px 1px 3px 1px rgba(60, 64, 67, 0.15);\n",
              "      fill: #174EA6;\n",
              "    }\n",
              "\n",
              "    [theme=dark] .colab-df-convert {\n",
              "      background-color: #3B4455;\n",
              "      fill: #D2E3FC;\n",
              "    }\n",
              "\n",
              "    [theme=dark] .colab-df-convert:hover {\n",
              "      background-color: #434B5C;\n",
              "      box-shadow: 0px 1px 3px 1px rgba(0, 0, 0, 0.15);\n",
              "      filter: drop-shadow(0px 1px 2px rgba(0, 0, 0, 0.3));\n",
              "      fill: #FFFFFF;\n",
              "    }\n",
              "  </style>\n",
              "\n",
              "      <script>\n",
              "        const buttonEl =\n",
              "          document.querySelector('#df-3ec2f0e3-b6c3-4d91-a000-534d8a04c0ca button.colab-df-convert');\n",
              "        buttonEl.style.display =\n",
              "          google.colab.kernel.accessAllowed ? 'block' : 'none';\n",
              "\n",
              "        async function convertToInteractive(key) {\n",
              "          const element = document.querySelector('#df-3ec2f0e3-b6c3-4d91-a000-534d8a04c0ca');\n",
              "          const dataTable =\n",
              "            await google.colab.kernel.invokeFunction('convertToInteractive',\n",
              "                                                     [key], {});\n",
              "          if (!dataTable) return;\n",
              "\n",
              "          const docLinkHtml = 'Like what you see? Visit the ' +\n",
              "            '<a target=\"_blank\" href=https://colab.research.google.com/notebooks/data_table.ipynb>data table notebook</a>'\n",
              "            + ' to learn more about interactive tables.';\n",
              "          element.innerHTML = '';\n",
              "          dataTable['output_type'] = 'display_data';\n",
              "          await google.colab.output.renderOutput(dataTable, element);\n",
              "          const docLink = document.createElement('div');\n",
              "          docLink.innerHTML = docLinkHtml;\n",
              "          element.appendChild(docLink);\n",
              "        }\n",
              "      </script>\n",
              "    </div>\n",
              "  </div>\n",
              "  "
            ],
            "text/plain": [
              "                    name  ...                         skills\n",
              "0  Alisson Parker-Wright  ...  {'python', 'tableau', 'java'}\n",
              "1           Ashley Miles  ...             {'sql', 'tableau'}\n",
              "2           John Dominic  ...   {'python', 'hadoop', 'java'}\n",
              "\n",
              "[3 rows x 4 columns]"
            ]
          },
          "metadata": {},
          "execution_count": 54
        }
      ]
    },
    {
      "cell_type": "code",
      "source": [
        "result_df.to_csv('/content/resume2/output/csv/parsed_resumes.csv')"
      ],
      "metadata": {
        "id": "hTWnFoKDYxfp"
      },
      "execution_count": 56,
      "outputs": []
    },
    {
      "cell_type": "code",
      "source": [
        ""
      ],
      "metadata": {
        "id": "iCVIkg5pZuPX"
      },
      "execution_count": null,
      "outputs": []
    }
  ]
}